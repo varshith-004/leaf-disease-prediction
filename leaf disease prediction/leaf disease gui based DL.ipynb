{
 "cells": [
  {
   "cell_type": "code",
   "execution_count": null,
   "id": "15157871",
   "metadata": {},
   "outputs": [],
   "source": [
    "\n"
   ]
  },
  {
   "cell_type": "code",
   "execution_count": 5,
   "id": "18aa0c38",
   "metadata": {},
   "outputs": [
    {
     "name": "stdout",
     "output_type": "stream",
     "text": [
      "1/1 [==============================] - 0s 95ms/step\n"
     ]
    }
   ],
   "source": [
    "import tkinter as tk\n",
    "from tkinter import filedialog, Label, Button\n",
    "from PIL import Image, ImageTk\n",
    "import numpy as np\n",
    "import tensorflow as tf\n",
    "from tensorflow.keras.models import load_model\n",
    "from tensorflow.keras.preprocessing import image\n",
    "\n",
    "# Load the trained model\n",
    "model = load_model(r'C:\\Users\\ssp1_\\OneDrive\\Desktop\\major projects\\leaf disease\\model.h5')\n",
    "\n",
    "# Class labels (modify based on your model)\n",
    "class_labels = ['Healthy', 'Powdery Mildew', 'Downy Mildew', 'Bacterial Blight', 'Rust']\n",
    "\n",
    "# Function to preprocess the image and make predictions\n",
    "def predict_disease(image_path):\n",
    "    try:\n",
    "        img = image.load_img(image_path, target_size=(28, 28))  # Match your model's input size\n",
    "        img_array = image.img_to_array(img)\n",
    "        img_array = np.expand_dims(img_array, axis=0)\n",
    "        img_array = img_array / 255.0  # Normalize\n",
    "        prediction = model.predict(img_array)\n",
    "        predicted_class = np.argmax(prediction, axis=1)[0]\n",
    "        confidence = np.max(prediction) * 100\n",
    "        return class_labels[predicted_class], confidence\n",
    "    except Exception as e:\n",
    "        return f\"Error: {str(e)}\", 0\n",
    "\n",
    "# Function to open and process the image file\n",
    "def open_image():\n",
    "    global img_label\n",
    "    file_path = filedialog.askopenfilename(filetypes=[(\"Image files\", \"*.jpg;*.jpeg;*.png\")])\n",
    "    if file_path:\n",
    "        # Display the selected image\n",
    "        img = Image.open(file_path)\n",
    "        img = img.resize((200, 200))\n",
    "        img_tk = ImageTk.PhotoImage(img)\n",
    "        img_label.config(image=img_tk)\n",
    "        img_label.image = img_tk\n",
    "\n",
    "        # Predict disease\n",
    "        result, confidence = predict_disease(file_path)\n",
    "        result_label.config(text=f\"Disease: {result}\")\n",
    "        confidence_label.config(text=f\"Confidence: {confidence:.2f}%\")\n",
    "\n",
    "# Create the GUI application\n",
    "root = tk.Tk()\n",
    "root.title(\"Leaf Disease Detection\")\n",
    "root.geometry(\"400x500\")\n",
    "\n",
    "# Title Label\n",
    "title_label = Label(root, text=\"Leaf Disease Detection\", font=(\"Arial\", 18, \"bold\"))\n",
    "title_label.pack(pady=10)\n",
    "\n",
    "# Image display\n",
    "img_label = Label(root, text=\"No Image Selected\", width=25, height=10, bg=\"gray\")\n",
    "img_label.pack(pady=10)\n",
    "\n",
    "# Buttons\n",
    "open_button = Button(root, text=\"Upload Leaf Image\", command=open_image, font=(\"Arial\", 14))\n",
    "open_button.pack(pady=10)\n",
    "\n",
    "# Result Labels\n",
    "result_label = Label(root, text=\"Disease: \", font=(\"Arial\", 14))\n",
    "result_label.pack(pady=10)\n",
    "confidence_label = Label(root, text=\"Confidence: \", font=(\"Arial\", 14))\n",
    "confidence_label.pack(pady=10)\n",
    "\n",
    "# Run the application\n",
    "root.mainloop()\n"
   ]
  },
  {
   "cell_type": "code",
   "execution_count": null,
   "id": "c79ae9d5",
   "metadata": {},
   "outputs": [],
   "source": []
  }
 ],
 "metadata": {
  "kernelspec": {
   "display_name": "Python 3 (ipykernel)",
   "language": "python",
   "name": "python3"
  },
  "language_info": {
   "codemirror_mode": {
    "name": "ipython",
    "version": 3
   },
   "file_extension": ".py",
   "mimetype": "text/x-python",
   "name": "python",
   "nbconvert_exporter": "python",
   "pygments_lexer": "ipython3",
   "version": "3.10.9"
  }
 },
 "nbformat": 4,
 "nbformat_minor": 5
}
